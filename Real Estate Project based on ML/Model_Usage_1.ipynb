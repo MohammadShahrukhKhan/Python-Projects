{
 "cells": [
  {
   "cell_type": "markdown",
   "id": "b3bcd9f8",
   "metadata": {},
   "source": [
    "# Using The Model"
   ]
  },
  {
   "cell_type": "code",
   "execution_count": 1,
   "id": "4a1268de",
   "metadata": {},
   "outputs": [],
   "source": [
    "from joblib import dump, load\n",
    "import numpy as num\n",
    "model = load('finestones.joblib') "
   ]
  },
  {
   "cell_type": "code",
   "execution_count": 2,
   "id": "1f6b2c15",
   "metadata": {},
   "outputs": [],
   "source": [
    "features = num.array([[-0.43942006,  3.12628155, -1.12165014, -0.27288841, -1.42262747,\n",
    "       -0.23960521, -1.31238772,  2.61111401, -1.0016859 , -0.5778192 ,\n",
    "       -0.97491834,  0.41164221, -0.86091034]])"
   ]
  },
  {
   "cell_type": "code",
   "execution_count": 3,
   "id": "b0566bc0",
   "metadata": {},
   "outputs": [
    {
     "data": {
      "text/plain": [
       "array([22.481])"
      ]
     },
     "execution_count": 3,
     "metadata": {},
     "output_type": "execute_result"
    }
   ],
   "source": [
    "model.predict(features)"
   ]
  },
  {
   "cell_type": "code",
   "execution_count": null,
   "id": "3af7c741",
   "metadata": {},
   "outputs": [],
   "source": []
  }
 ],
 "metadata": {
  "kernelspec": {
   "display_name": "Python 3 (ipykernel)",
   "language": "python",
   "name": "python3"
  },
  "language_info": {
   "codemirror_mode": {
    "name": "ipython",
    "version": 3
   },
   "file_extension": ".py",
   "mimetype": "text/x-python",
   "name": "python",
   "nbconvert_exporter": "python",
   "pygments_lexer": "ipython3",
   "version": "3.10.2"
  }
 },
 "nbformat": 4,
 "nbformat_minor": 5
}
